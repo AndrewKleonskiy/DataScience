{
 "cells": [
  {
   "cell_type": "code",
   "execution_count": 1,
   "id": "ca968006",
   "metadata": {},
   "outputs": [],
   "source": [
    "import pandas as pd\n",
    "from sklearn.model_selection import train_test_split\n",
    "from sklearn.linear_model import Lasso\n",
    "from sklearn.preprocessing import StandardScaler\n",
    "\n",
    "# прочитайте данные с атрибутами аккаунтов компаний на Facebook и активностью на них\n",
    "fb = pd.read_csv('/Users/andrejkleonskij/Data Science Git/dataset_facebook_cosmetics.csv', sep = ';')\n",
    "\n",
    "# разделяем данные на признаки (матрица X) и целевую переменную (y)\n",
    "X = fb.drop('Total Interactions', axis = 1)\n",
    "y = fb['Total Interactions']\n",
    "\n",
    "# разделяем модель на обучающую и валидационную выборку\n",
    "X_train, X_test, y_train, y_test = train_test_split(X, y, test_size=0.2, random_state=0)"
   ]
  },
  {
   "cell_type": "code",
   "execution_count": 2,
   "id": "eff75afd",
   "metadata": {},
   "outputs": [],
   "source": [
    "scaler = StandardScaler()\n",
    "scaler.fit(X_train)\n",
    "X_train_st = scaler.transform(X_train)\n",
    "X_test_st = scaler.transform(X_test)"
   ]
  },
  {
   "cell_type": "code",
   "execution_count": 3,
   "id": "757cdd86",
   "metadata": {},
   "outputs": [
    {
     "data": {
      "text/plain": [
       "Lasso()"
      ]
     },
     "execution_count": 3,
     "metadata": {},
     "output_type": "execute_result"
    }
   ],
   "source": [
    "model = Lasso()\n",
    "model.fit(X_train_st,y_train)"
   ]
  },
  {
   "cell_type": "code",
   "execution_count": 4,
   "id": "78a7ccb7",
   "metadata": {},
   "outputs": [],
   "source": [
    "predictions = model.predict(X_test_st)"
   ]
  },
  {
   "cell_type": "code",
   "execution_count": 5,
   "id": "5cd981f2",
   "metadata": {},
   "outputs": [],
   "source": [
    "features = pd.DataFrame({'feature':X_train.columns,'coeff': model.coef_})# воспользуйтесь методом coef_\n",
    "features['coeff_abs'] = abs(features['coeff'])"
   ]
  },
  {
   "cell_type": "code",
   "execution_count": 6,
   "id": "0a4d308a",
   "metadata": {},
   "outputs": [
    {
     "name": "stdout",
     "output_type": "stream",
     "text": [
      "                                              feature        coeff  \\\n",
      "8                              Lifetime Engaged Users  1437.936445   \n",
      "9                             Lifetime Post Consumers -1272.879266   \n",
      "13  Lifetime People who have liked your Page and e...    28.620137   \n",
      "12   Lifetime Post reach by people who like your Page   -18.094114   \n",
      "2                                          Post Month   -14.802091   \n",
      "7                     Lifetime Post Total Impressions     9.323297   \n",
      "10                         Lifetime Post Consumptions     7.268843   \n",
      "6                           Lifetime Post Total Reach    -4.723486   \n",
      "1                                            Category     2.130939   \n",
      "5                                                Paid    -1.857545   \n",
      "4                                           Post Hour    -0.676480   \n",
      "0                                    Page total likes     0.000000   \n",
      "3                                        Post Weekday    -0.000000   \n",
      "11  Lifetime Post Impressions by people who have l...     0.000000   \n",
      "\n",
      "      coeff_abs  \n",
      "8   1437.936445  \n",
      "9   1272.879266  \n",
      "13    28.620137  \n",
      "12    18.094114  \n",
      "2     14.802091  \n",
      "7      9.323297  \n",
      "10     7.268843  \n",
      "6      4.723486  \n",
      "1      2.130939  \n",
      "5      1.857545  \n",
      "4      0.676480  \n",
      "0      0.000000  \n",
      "3      0.000000  \n",
      "11     0.000000  \n"
     ]
    }
   ],
   "source": [
    "print(features.sort_values(by = 'coeff_abs',ascending = False))"
   ]
  }
 ],
 "metadata": {
  "kernelspec": {
   "display_name": "Python 3",
   "language": "python",
   "name": "python3"
  },
  "language_info": {
   "codemirror_mode": {
    "name": "ipython",
    "version": 3
   },
   "file_extension": ".py",
   "mimetype": "text/x-python",
   "name": "python",
   "nbconvert_exporter": "python",
   "pygments_lexer": "ipython3",
   "version": "3.8.8"
  }
 },
 "nbformat": 4,
 "nbformat_minor": 5
}
