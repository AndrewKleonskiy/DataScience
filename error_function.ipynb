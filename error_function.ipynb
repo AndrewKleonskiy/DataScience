{
 "cells": [
  {
   "cell_type": "code",
   "execution_count": 15,
   "id": "baec18b5",
   "metadata": {},
   "outputs": [],
   "source": [
    "import numpy as np"
   ]
  },
  {
   "cell_type": "code",
   "execution_count": 16,
   "id": "2460eff6",
   "metadata": {},
   "outputs": [],
   "source": [
    "x = [12, 9, 4, 5, 5, 7, 7, 6, 7, 11, 9, 8, 10, 4, 11]# ваш код здесь\n",
    "y = [28.1, 18.7, 1.0, 10.2, 11.6, 19.9, 24.4, 18.1, 18.5, 25.0, 21.8, 13.4, 18.0, 11.1, 21.1]"
   ]
  },
  {
   "cell_type": "code",
   "execution_count": 17,
   "id": "6d32e5f2",
   "metadata": {},
   "outputs": [],
   "source": [
    "y_1 = [(2 + 2*i) for i in x] \n",
    "y_2 = [(3+i) for i in x] "
   ]
  },
  {
   "cell_type": "code",
   "execution_count": 18,
   "id": "d5d7ae63",
   "metadata": {},
   "outputs": [
    {
     "name": "stdout",
     "output_type": "stream",
     "text": [
      "Прогноз первой модели [26, 20, 10, 12, 12, 16, 16, 14, 16, 24, 20, 18, 22, 10, 24]\n",
      "Прогноз второй модели [15, 12, 7, 8, 8, 10, 10, 9, 10, 14, 12, 11, 13, 7, 14]\n"
     ]
    }
   ],
   "source": [
    "print('Прогноз первой модели', y_1)\n",
    "print('Прогноз второй модели', y_2)"
   ]
  },
  {
   "cell_type": "code",
   "execution_count": 19,
   "id": "e37bfc85",
   "metadata": {},
   "outputs": [],
   "source": [
    "def error_function(y_real, y_pred):\n",
    "    q =  sum((np.array(y_real) - np.array(y_pred)) ** 2 )/ len(y_real) # Ваш код здесь\n",
    "    return q"
   ]
  },
  {
   "cell_type": "code",
   "execution_count": 20,
   "id": "bf02f955",
   "metadata": {},
   "outputs": [
    {
     "name": "stdout",
     "output_type": "stream",
     "text": [
      "Ошибка первой модели 16.69\n",
      "Ошибка второй модели 69.71666666666667\n"
     ]
    }
   ],
   "source": [
    "print('Ошибка первой модели',error_function(y,y_1))\n",
    "print('Ошибка второй модели',error_function(y,y_2))"
   ]
  }
 ],
 "metadata": {
  "kernelspec": {
   "display_name": "Python 3",
   "language": "python",
   "name": "python3"
  },
  "language_info": {
   "codemirror_mode": {
    "name": "ipython",
    "version": 3
   },
   "file_extension": ".py",
   "mimetype": "text/x-python",
   "name": "python",
   "nbconvert_exporter": "python",
   "pygments_lexer": "ipython3",
   "version": "3.8.8"
  }
 },
 "nbformat": 4,
 "nbformat_minor": 5
}
