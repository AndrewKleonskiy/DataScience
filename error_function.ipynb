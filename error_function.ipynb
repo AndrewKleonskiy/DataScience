{
 "cells": [
  {
   "cell_type": "code",
   "execution_count": 5,
   "id": "9c797fb7",
   "metadata": {},
   "outputs": [],
   "source": [
    "import numpy as np"
   ]
  },
  {
   "cell_type": "code",
   "execution_count": 6,
   "id": "623e15ad",
   "metadata": {},
   "outputs": [],
   "source": [
    "x = [12, 9, 4, 5, 5, 7, 7, 6, 7, 11, 9, 8, 10, 4, 11]# ваш код здесь\n",
    "y = [28.1, 18.7, 1.0, 10.2, 11.6, 19.9, 24.4, 18.1, 18.5, 25.0, 21.8, 13.4, 18.0, 11.1, 21.1]"
   ]
  },
  {
   "cell_type": "code",
   "execution_count": 7,
   "id": "43e03fb0",
   "metadata": {},
   "outputs": [],
   "source": [
    "y_1 = [(2 + 2*i) for i in x] \n",
    "y_2 = [(3+i) for i in x] "
   ]
  },
  {
   "cell_type": "code",
   "execution_count": 8,
   "id": "ad2ad41a",
   "metadata": {},
   "outputs": [
    {
     "name": "stdout",
     "output_type": "stream",
     "text": [
      "Прогноз первой модели [26, 20, 10, 12, 12, 16, 16, 14, 16, 24, 20, 18, 22, 10, 24]\n",
      "Прогноз второй модели [15, 12, 7, 8, 8, 10, 10, 9, 10, 14, 12, 11, 13, 7, 14]\n"
     ]
    }
   ],
   "source": [
    "print('Прогноз первой модели', y_1)\n",
    "print('Прогноз второй модели', y_2)"
   ]
  },
  {
   "cell_type": "code",
   "execution_count": 11,
   "id": "f671ab8b",
   "metadata": {},
   "outputs": [],
   "source": [
    "def error_function(y_real, y_pred):\n",
    "    q =  sum((np.array(y_real) - np.array(y_pred)) ** 2 )/ len(y_real) # Ваш код здесь\n",
    "    return q"
   ]
  },
  {
   "cell_type": "code",
   "execution_count": 13,
   "id": "b515493d",
   "metadata": {},
   "outputs": [
    {
     "data": {
      "text/plain": [
       "69.71666666666667"
      ]
     },
     "execution_count": 13,
     "metadata": {},
     "output_type": "execute_result"
    }
   ],
   "source": [
    "print('Ошибка первой модели',error_function(y,y_1))\n",
    "зкште(error_function(y,y_2)"
   ]
  },
  {
   "cell_type": "code",
   "execution_count": null,
   "id": "e5c770ec",
   "metadata": {},
   "outputs": [],
   "source": []
  }
 ],
 "metadata": {
  "kernelspec": {
   "display_name": "Python 3",
   "language": "python",
   "name": "python3"
  },
  "language_info": {
   "codemirror_mode": {
    "name": "ipython",
    "version": 3
   },
   "file_extension": ".py",
   "mimetype": "text/x-python",
   "name": "python",
   "nbconvert_exporter": "python",
   "pygments_lexer": "ipython3",
   "version": "3.8.8"
  }
 },
 "nbformat": 4,
 "nbformat_minor": 5
}
