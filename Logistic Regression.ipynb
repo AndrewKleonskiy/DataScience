{
 "cells": [
  {
   "cell_type": "code",
   "execution_count": 4,
   "id": "f8f96e5d",
   "metadata": {},
   "outputs": [],
   "source": [
    "import pandas as pd\n",
    "from sklearn.model_selection import train_test_split\n",
    "from sklearn.linear_model import LogisticRegression"
   ]
  },
  {
   "cell_type": "code",
   "execution_count": 6,
   "id": "c30bc3f4",
   "metadata": {},
   "outputs": [
    {
     "name": "stdout",
     "output_type": "stream",
     "text": [
      "Размер датасета: (10000, 13)\n",
      "       tau1      tau2      tau3      tau4        p1        p2        p3  \\\n",
      "0  2.959060  3.079885  8.381025  9.780754  3.763085 -0.782604 -1.257395   \n",
      "1  9.304097  4.902524  3.047541  1.369357  5.067812 -1.940058 -1.872742   \n",
      "2  8.971707  8.848428  3.046479  1.214518  3.405158 -1.207456 -1.277210   \n",
      "3  0.716415  7.669600  4.486641  2.340563  3.963791 -1.027473 -1.938944   \n",
      "4  3.134112  7.608772  4.943759  9.857573  3.525811 -1.125531 -1.845975   \n",
      "\n",
      "         p4        g1        g2        g3        g4  stability  \n",
      "0 -1.723086  0.650456  0.859578  0.887445  0.958034          0  \n",
      "1 -1.255012  0.413441  0.862414  0.562139  0.781760          1  \n",
      "2 -0.920492  0.163041  0.766689  0.839444  0.109853          0  \n",
      "3 -0.997374  0.446209  0.976744  0.929381  0.362718          0  \n",
      "4 -0.554305  0.797110  0.455450  0.656947  0.820923          0  \n"
     ]
    }
   ],
   "source": [
    "electrical_grid = pd.read_csv('/Users/andrejkleonskij/Data Science Git/Electrical_Grid_Stability.csv', sep = ';')\n",
    "print('Размер датасета:', electrical_grid.shape)\n",
    "print(electrical_grid.head())"
   ]
  },
  {
   "cell_type": "code",
   "execution_count": 7,
   "id": "cf070812",
   "metadata": {},
   "outputs": [],
   "source": [
    "X = electrical_grid.drop('stability', axis = 1)\n",
    "y = electrical_grid['stability']"
   ]
  },
  {
   "cell_type": "code",
   "execution_count": 8,
   "id": "1314995e",
   "metadata": {},
   "outputs": [],
   "source": [
    "X_train, X_test, y_train, y_test = train_test_split(X, y, test_size=0.2, random_state=0)"
   ]
  },
  {
   "cell_type": "code",
   "execution_count": 10,
   "id": "d13811bb",
   "metadata": {},
   "outputs": [
    {
     "data": {
      "text/plain": [
       "LogisticRegression(solver='liblinear')"
      ]
     },
     "execution_count": 10,
     "metadata": {},
     "output_type": "execute_result"
    }
   ],
   "source": [
    "model = LogisticRegression(solver='liblinear') \n",
    "model.fit(X_train,y_train)"
   ]
  },
  {
   "cell_type": "code",
   "execution_count": 11,
   "id": "9fca359d",
   "metadata": {},
   "outputs": [],
   "source": [
    "predictions = model.predict(X_test)\n",
    "probabilities = model.predict_proba(X_test)[:,1]"
   ]
  },
  {
   "cell_type": "code",
   "execution_count": 12,
   "id": "b1c1585b",
   "metadata": {},
   "outputs": [
    {
     "name": "stdout",
     "output_type": "stream",
     "text": [
      "[1 1 0 ... 1 0 0]\n",
      "[0.70206393 0.55181392 0.37248332 ... 0.87826061 0.22088581 0.11247347]\n"
     ]
    }
   ],
   "source": [
    "print(predictions)\n",
    "print(probabilities)"
   ]
  }
 ],
 "metadata": {
  "kernelspec": {
   "display_name": "Python 3",
   "language": "python",
   "name": "python3"
  },
  "language_info": {
   "codemirror_mode": {
    "name": "ipython",
    "version": 3
   },
   "file_extension": ".py",
   "mimetype": "text/x-python",
   "name": "python",
   "nbconvert_exporter": "python",
   "pygments_lexer": "ipython3",
   "version": "3.8.8"
  }
 },
 "nbformat": 4,
 "nbformat_minor": 5
}
