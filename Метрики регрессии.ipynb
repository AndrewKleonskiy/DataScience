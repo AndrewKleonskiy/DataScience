{
 "cells": [
  {
   "cell_type": "markdown",
   "id": "8f358c2b",
   "metadata": {},
   "source": [
    "Средний модуль ошибки — **MAE (англ. Mean Absolute Error)**  \n",
    "Средняя квадратичная ошибка — **MSE (англ. Mean Squared Error)** и корень из этой величины — **RMSE** (англ. Root Mean Squared Error);  \n",
    "Коэффициент детерминации, или **R-квадрат (R2);** \n",
    "Средняя абсолютная ошибка в процентах — **MAPE** (англ. Mean Absolute Percentage Error)."
   ]
  },
  {
   "cell_type": "code",
   "execution_count": 16,
   "id": "681cc714",
   "metadata": {},
   "outputs": [],
   "source": [
    "import pandas as pd\n",
    "from sklearn.model_selection import train_test_split\n",
    "from sklearn.metrics import mean_absolute_error, mean_squared_error, r2_score\n",
    "from sklearn.linear_model import Lasso\n",
    "from sklearn.preprocessing import StandardScaler"
   ]
  },
  {
   "cell_type": "code",
   "execution_count": 19,
   "id": "fdb55665",
   "metadata": {},
   "outputs": [],
   "source": [
    "fb = pd.read_csv('/Users/andrejkleonskij/Data Science Git/dataset_facebook_cosmetics.csv',sep = ';')\n"
   ]
  },
  {
   "cell_type": "code",
   "execution_count": 21,
   "id": "b2baf540",
   "metadata": {},
   "outputs": [],
   "source": [
    "X = fb.drop('Total Interactions', axis = 1)\n",
    "y = fb['Total Interactions']"
   ]
  },
  {
   "cell_type": "code",
   "execution_count": 22,
   "id": "8d232256",
   "metadata": {},
   "outputs": [],
   "source": [
    "X_train, X_test, y_train, y_test = train_test_split(X, y, test_size=0.2, random_state=0)"
   ]
  },
  {
   "cell_type": "code",
   "execution_count": 30,
   "id": "c967a2b6",
   "metadata": {},
   "outputs": [],
   "source": [
    "scaler = StandardScaler()\n",
    "scaler.fit(X_train)\n",
    "X_train_st = scaler.transform(X_train)\n",
    "X_test_st = scaler.transform(X_test)"
   ]
  },
  {
   "cell_type": "code",
   "execution_count": 34,
   "id": "5395d4c5",
   "metadata": {},
   "outputs": [
    {
     "name": "stdout",
     "output_type": "stream",
     "text": [
      "Mean: 188.36\n"
     ]
    }
   ],
   "source": [
    "model = Lasso()\n",
    "model.fit(X_train_st, y_train)\n",
    "predictions = model.predict(X_test_st)\n",
    "\n",
    "print('Mean: {:.2f}'.format(y_test.mean()))"
   ]
  },
  {
   "cell_type": "code",
   "execution_count": 35,
   "id": "06b694dc",
   "metadata": {},
   "outputs": [
    {
     "name": "stdout",
     "output_type": "stream",
     "text": [
      "MAE: 35.42\n",
      "MSE: 4896.61\n",
      "R2: 0.93\n"
     ]
    }
   ],
   "source": [
    "print('MAE: {:.2f}'.format(mean_absolute_error(y_test, predictions)))\n",
    "print('MSE: {:.2f}'.format(mean_squared_error(y_test, predictions)))\n",
    "print('R2: {:.2f}'.format(r2_score(y_test, predictions)))"
   ]
  }
 ],
 "metadata": {
  "kernelspec": {
   "display_name": "Python 3",
   "language": "python",
   "name": "python3"
  },
  "language_info": {
   "codemirror_mode": {
    "name": "ipython",
    "version": 3
   },
   "file_extension": ".py",
   "mimetype": "text/x-python",
   "name": "python",
   "nbconvert_exporter": "python",
   "pygments_lexer": "ipython3",
   "version": "3.8.8"
  }
 },
 "nbformat": 4,
 "nbformat_minor": 5
}
